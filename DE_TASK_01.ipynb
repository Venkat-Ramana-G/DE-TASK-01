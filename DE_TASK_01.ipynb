{
 "cells": [
  {
   "cell_type": "markdown",
   "metadata": {},
   "source": [
    "DATA INGESTION"
   ]
  },
  {
   "cell_type": "code",
   "execution_count": 2,
   "metadata": {},
   "outputs": [],
   "source": [
    "import pandas as pd\n",
    "\n",
    "# Data for Branch 1\n",
    "data_branch1 = {\n",
    "    'Branch': ['Branch 1', 'Branch 1', 'Branch 1'],\n",
    "    'Product': ['Product A', 'Product B', 'Product C'],\n",
    "    'Sales': [150, 200, 250],\n",
    "    'Date': ['2024-01-10', '2024-01-11', '2024-01-12']\n",
    "}\n",
    "\n",
    "# Convert to DataFrame and save as CSV\n",
    "df_branch1 = pd.DataFrame(data_branch1)\n",
    "df_branch1.to_csv('branch1_sales.csv', index=False)\n"
   ]
  },
  {
   "cell_type": "code",
   "execution_count": 3,
   "metadata": {},
   "outputs": [],
   "source": [
    "import json\n",
    "\n",
    "# Data for Branch 2\n",
    "data_branch2 = [\n",
    "    {\"Branch\": \"Branch 2\", \"Product\": \"Product A\", \"Sales\": 180, \"Date\": \"2024-01-10\"},\n",
    "    {\"Branch\": \"Branch 2\", \"Product\": \"Product B\", \"Sales\": 220, \"Date\": \"2024-01-11\"},\n",
    "    {\"Branch\": \"Branch 2\", \"Product\": \"Product C\", \"Sales\": 260, \"Date\": \"2024-01-12\"}\n",
    "]\n",
    "\n",
    "# Save as JSON\n",
    "with open('branch2_sales.json', 'w') as json_file:\n",
    "    json.dump(data_branch2, json_file, indent=4)\n"
   ]
  },
  {
   "cell_type": "code",
   "execution_count": 4,
   "metadata": {},
   "outputs": [],
   "source": [
    "# Data for Branch 3\n",
    "data_branch3 = {\n",
    "    'Branch': ['Branch 3', 'Branch 3', 'Branch 3'],\n",
    "    'Product': ['Product A', 'Product B', 'Product C'],\n",
    "    'Sales': [170, 210, 270],\n",
    "    'Date': ['2024-01-10', '2024-01-11', '2024-01-12']\n",
    "}\n",
    "\n",
    "# Convert to DataFrame and save as Excel\n",
    "df_branch3 = pd.DataFrame(data_branch3)\n",
    "df_branch3.to_excel('branch3_sales.xlsx', index=False)\n"
   ]
  },
  {
   "cell_type": "code",
   "execution_count": 5,
   "metadata": {},
   "outputs": [
    {
     "name": "stdout",
     "output_type": "stream",
     "text": [
      "     Branch    Product  Sales        Date\n",
      "0  Branch 1  Product A    150  2024-01-10\n",
      "1  Branch 1  Product B    200  2024-01-11\n",
      "2  Branch 1  Product C    250  2024-01-12\n",
      "     Branch    Product  Sales       Date\n",
      "0  Branch 2  Product A    180 2024-01-10\n",
      "1  Branch 2  Product B    220 2024-01-11\n",
      "2  Branch 2  Product C    260 2024-01-12\n",
      "     Branch    Product  Sales        Date\n",
      "0  Branch 3  Product A    170  2024-01-10\n",
      "1  Branch 3  Product B    210  2024-01-11\n",
      "2  Branch 3  Product C    270  2024-01-12\n"
     ]
    }
   ],
   "source": [
    "# Ingest CSV\n",
    "csv_data = pd.read_csv('branch1_sales.csv')\n",
    "\n",
    "# Ingest JSON\n",
    "json_data = pd.read_json('branch2_sales.json')\n",
    "\n",
    "# Ingest Excel\n",
    "excel_data = pd.read_excel('branch3_sales.xlsx')\n",
    "\n",
    "# Check the first few rows to ensure successful ingestion\n",
    "print(csv_data.head())\n",
    "print(json_data.head())\n",
    "print(excel_data.head())\n"
   ]
  },
  {
   "cell_type": "markdown",
   "metadata": {},
   "source": [
    "DATA CLEANING"
   ]
  },
  {
   "cell_type": "code",
   "execution_count": 6,
   "metadata": {},
   "outputs": [],
   "source": [
    "# Handling Missing Values: Fill or drop missing values.\n",
    "# Fill missing values with 0 or a specific value\n",
    "for df in [csv_data, json_data, excel_data]:\n",
    "    df.fillna(0, inplace=True)\n"
   ]
  },
  {
   "cell_type": "code",
   "execution_count": 7,
   "metadata": {},
   "outputs": [
    {
     "name": "stdout",
     "output_type": "stream",
     "text": [
      "Branch     0\n",
      "Product    0\n",
      "Sales      0\n",
      "Date       0\n",
      "dtype: int64\n",
      "Branch     0\n",
      "Product    0\n",
      "Sales      0\n",
      "Date       0\n",
      "dtype: int64\n",
      "Branch     0\n",
      "Product    0\n",
      "Sales      0\n",
      "Date       0\n",
      "dtype: int64\n"
     ]
    },
    {
     "data": {
      "text/plain": [
       "[None, None, None]"
      ]
     },
     "execution_count": 7,
     "metadata": {},
     "output_type": "execute_result"
    }
   ],
   "source": [
    "[print(df.isnull().sum()) for df in [csv_data, json_data, excel_data]]"
   ]
  },
  {
   "cell_type": "code",
   "execution_count": 8,
   "metadata": {},
   "outputs": [
    {
     "name": "stdout",
     "output_type": "stream",
     "text": [
      "Branch     1\n",
      "Product    3\n",
      "Sales      3\n",
      "Date       3\n",
      "dtype: int64\n",
      "Branch     1\n",
      "Product    3\n",
      "Sales      3\n",
      "Date       3\n",
      "dtype: int64\n",
      "Branch     1\n",
      "Product    3\n",
      "Sales      3\n",
      "Date       3\n",
      "dtype: int64\n"
     ]
    },
    {
     "data": {
      "text/plain": [
       "[None, None, None]"
      ]
     },
     "execution_count": 8,
     "metadata": {},
     "output_type": "execute_result"
    }
   ],
   "source": [
    "[print(df.nunique()) for df in [csv_data, json_data, excel_data]]"
   ]
  },
  {
   "cell_type": "markdown",
   "metadata": {},
   "source": [
    "DATA TRANSFORMATION"
   ]
  },
  {
   "cell_type": "code",
   "execution_count": 9,
   "metadata": {},
   "outputs": [],
   "source": [
    "for df in [csv_data, json_data, excel_data]:\n",
    "    df['Sales'] = pd.to_numeric(df['Sales'], errors='coerce')\n",
    "\n",
    "for df in [csv_data, json_data, excel_data]:\n",
    "    df['Date'] = pd.to_datetime(df['Date'], errors='coerce')\n"
   ]
  },
  {
   "cell_type": "code",
   "execution_count": 13,
   "metadata": {},
   "outputs": [],
   "source": [
    "df.reset_index(drop=True, inplace=True)\n"
   ]
  },
  {
   "cell_type": "markdown",
   "metadata": {},
   "source": [
    "Once the data is cleaned and standardized, concatenate all the data into a single DataFrame."
   ]
  },
  {
   "cell_type": "code",
   "execution_count": 12,
   "metadata": {},
   "outputs": [
    {
     "name": "stdout",
     "output_type": "stream",
     "text": [
      "     Branch    Product  Sales       Date\n",
      "0  Branch 1  Product A    150 2024-01-10\n",
      "1  Branch 1  Product B    200 2024-01-11\n",
      "2  Branch 1  Product C    250 2024-01-12\n",
      "0  Branch 2  Product A    180 2024-01-10\n",
      "1  Branch 2  Product B    220 2024-01-11\n"
     ]
    }
   ],
   "source": [
    "# Concatenate all data into one DataFrame\n",
    "combined_data_of_3_formats = pd.concat([csv_data, json_data, excel_data])\n",
    "\n",
    "# Drop duplicate rows if necessary\n",
    "combined_data_of_3_formats.drop_duplicates(inplace=True)\n",
    "\n",
    "# Check the final data\n",
    "print(combined_data_of_3_formats.head())\n"
   ]
  },
  {
   "cell_type": "code",
   "execution_count": 15,
   "metadata": {},
   "outputs": [
    {
     "data": {
      "text/html": [
       "<div>\n",
       "<style scoped>\n",
       "    .dataframe tbody tr th:only-of-type {\n",
       "        vertical-align: middle;\n",
       "    }\n",
       "\n",
       "    .dataframe tbody tr th {\n",
       "        vertical-align: top;\n",
       "    }\n",
       "\n",
       "    .dataframe thead th {\n",
       "        text-align: right;\n",
       "    }\n",
       "</style>\n",
       "<table border=\"1\" class=\"dataframe\">\n",
       "  <thead>\n",
       "    <tr style=\"text-align: right;\">\n",
       "      <th></th>\n",
       "      <th>Branch</th>\n",
       "      <th>Product</th>\n",
       "      <th>Sales</th>\n",
       "      <th>Date</th>\n",
       "    </tr>\n",
       "  </thead>\n",
       "  <tbody>\n",
       "    <tr>\n",
       "      <th>0</th>\n",
       "      <td>Branch 1</td>\n",
       "      <td>Product A</td>\n",
       "      <td>150</td>\n",
       "      <td>2024-01-10</td>\n",
       "    </tr>\n",
       "    <tr>\n",
       "      <th>1</th>\n",
       "      <td>Branch 1</td>\n",
       "      <td>Product B</td>\n",
       "      <td>200</td>\n",
       "      <td>2024-01-11</td>\n",
       "    </tr>\n",
       "    <tr>\n",
       "      <th>2</th>\n",
       "      <td>Branch 1</td>\n",
       "      <td>Product C</td>\n",
       "      <td>250</td>\n",
       "      <td>2024-01-12</td>\n",
       "    </tr>\n",
       "    <tr>\n",
       "      <th>0</th>\n",
       "      <td>Branch 2</td>\n",
       "      <td>Product A</td>\n",
       "      <td>180</td>\n",
       "      <td>2024-01-10</td>\n",
       "    </tr>\n",
       "    <tr>\n",
       "      <th>1</th>\n",
       "      <td>Branch 2</td>\n",
       "      <td>Product B</td>\n",
       "      <td>220</td>\n",
       "      <td>2024-01-11</td>\n",
       "    </tr>\n",
       "    <tr>\n",
       "      <th>2</th>\n",
       "      <td>Branch 2</td>\n",
       "      <td>Product C</td>\n",
       "      <td>260</td>\n",
       "      <td>2024-01-12</td>\n",
       "    </tr>\n",
       "    <tr>\n",
       "      <th>0</th>\n",
       "      <td>Branch 3</td>\n",
       "      <td>Product A</td>\n",
       "      <td>170</td>\n",
       "      <td>2024-01-10</td>\n",
       "    </tr>\n",
       "    <tr>\n",
       "      <th>1</th>\n",
       "      <td>Branch 3</td>\n",
       "      <td>Product B</td>\n",
       "      <td>210</td>\n",
       "      <td>2024-01-11</td>\n",
       "    </tr>\n",
       "    <tr>\n",
       "      <th>2</th>\n",
       "      <td>Branch 3</td>\n",
       "      <td>Product C</td>\n",
       "      <td>270</td>\n",
       "      <td>2024-01-12</td>\n",
       "    </tr>\n",
       "  </tbody>\n",
       "</table>\n",
       "</div>"
      ],
      "text/plain": [
       "     Branch    Product  Sales       Date\n",
       "0  Branch 1  Product A    150 2024-01-10\n",
       "1  Branch 1  Product B    200 2024-01-11\n",
       "2  Branch 1  Product C    250 2024-01-12\n",
       "0  Branch 2  Product A    180 2024-01-10\n",
       "1  Branch 2  Product B    220 2024-01-11\n",
       "2  Branch 2  Product C    260 2024-01-12\n",
       "0  Branch 3  Product A    170 2024-01-10\n",
       "1  Branch 3  Product B    210 2024-01-11\n",
       "2  Branch 3  Product C    270 2024-01-12"
      ]
     },
     "execution_count": 15,
     "metadata": {},
     "output_type": "execute_result"
    }
   ],
   "source": [
    "combined_data_of_3_formats"
   ]
  },
  {
   "cell_type": "markdown",
   "metadata": {},
   "source": [
    " Save Data to CSV"
   ]
  },
  {
   "cell_type": "code",
   "execution_count": 13,
   "metadata": {},
   "outputs": [],
   "source": [
    "# Save the combined dataset into a CSV file\n",
    "combined_data_of_3_formats.to_csv('combined_data.csv', index=False)"
   ]
  }
 ],
 "metadata": {
  "kernelspec": {
   "display_name": "base",
   "language": "python",
   "name": "python3"
  },
  "language_info": {
   "codemirror_mode": {
    "name": "ipython",
    "version": 3
   },
   "file_extension": ".py",
   "mimetype": "text/x-python",
   "name": "python",
   "nbconvert_exporter": "python",
   "pygments_lexer": "ipython3",
   "version": "3.12.4"
  }
 },
 "nbformat": 4,
 "nbformat_minor": 2
}
